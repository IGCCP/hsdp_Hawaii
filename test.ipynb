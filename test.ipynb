{
 "cells": [
  {
   "cell_type": "code",
   "execution_count": 40,
   "metadata": {},
   "outputs": [
    {
     "name": "stdout",
     "output_type": "stream",
     "text": [
      "Requirement already satisfied: tabula-py in /Users/wli/opt/anaconda3/envs/tensorflow/lib/python3.9/site-packages (2.9.0)\n",
      "Requirement already satisfied: pandas>=0.25.3 in /Users/wli/opt/anaconda3/envs/tensorflow/lib/python3.9/site-packages (from tabula-py) (1.5.3)\n",
      "Requirement already satisfied: numpy in /Users/wli/opt/anaconda3/envs/tensorflow/lib/python3.9/site-packages (from tabula-py) (1.25.0)\n",
      "Requirement already satisfied: distro in /Users/wli/opt/anaconda3/envs/tensorflow/lib/python3.9/site-packages (from tabula-py) (1.9.0)\n",
      "Requirement already satisfied: python-dateutil>=2.8.1 in /Users/wli/opt/anaconda3/envs/tensorflow/lib/python3.9/site-packages (from pandas>=0.25.3->tabula-py) (2.8.2)\n",
      "Requirement already satisfied: pytz>=2020.1 in /Users/wli/opt/anaconda3/envs/tensorflow/lib/python3.9/site-packages (from pandas>=0.25.3->tabula-py) (2022.7)\n",
      "Requirement already satisfied: six>=1.5 in /Users/wli/opt/anaconda3/envs/tensorflow/lib/python3.9/site-packages (from python-dateutil>=2.8.1->pandas>=0.25.3->tabula-py) (1.16.0)\n",
      "Requirement already satisfied: PyPDF2 in /Users/wli/opt/anaconda3/envs/tensorflow/lib/python3.9/site-packages (3.0.1)\n",
      "Requirement already satisfied: typing_extensions>=3.10.0.0 in /Users/wli/opt/anaconda3/envs/tensorflow/lib/python3.9/site-packages (from PyPDF2) (4.6.3)\n"
     ]
    }
   ],
   "source": [
    "!pip install tabula-py\n",
    "!pip install PyPDF2"
   ]
  },
  {
   "cell_type": "code",
   "execution_count": 48,
   "metadata": {},
   "outputs": [],
   "source": [
    "# PDF file\n",
    "file = \"/Users/wli/Documents/kg/1-s2.0-S0016703716301491-main.pdf\""
   ]
  },
  {
   "cell_type": "code",
   "execution_count": 43,
   "metadata": {},
   "outputs": [],
   "source": [
    "import tabula\n",
    "import PyPDF2"
   ]
  },
  {
   "cell_type": "code",
   "execution_count": 44,
   "metadata": {},
   "outputs": [
    {
     "name": "stdout",
     "output_type": "stream",
     "text": [
      "Metadata saved to 'pdf_metadata.txt'\n"
     ]
    }
   ],
   "source": [
    "# document metadata\n",
    "with open(file, \"rb\") as file:\n",
    "    reader = PyPDF2.PdfReader(file)\n",
    "    \n",
    "    # Access document metadata and number of pages\n",
    "    metadata = reader.metadata\n",
    "    num_pages = len(reader.pages)\n",
    "    \n",
    "    # print(\"Metadata:\", metadata)\n",
    "    # print(\"Number of pages:\", num_pages)\n",
    "\n",
    "# save metadata to a text file\n",
    "metadata_str = \"\\n\".join([f\"{key}: {value}\" for key, value in metadata.items()])\n",
    "with open(\"pdf_metadata.txt\", \"w\") as meta_file:\n",
    "    meta_file.write(metadata_str)\n",
    "    print(\"Metadata saved to 'pdf_metadata.txt'\")"
   ]
  },
  {
   "cell_type": "code",
   "execution_count": 54,
   "metadata": {},
   "outputs": [
    {
     "name": "stdout",
     "output_type": "stream",
     "text": [
      "Table 1 on page 1 saved as 'table_1_1.csv'\n"
     ]
    }
   ],
   "source": [
    "# Extract and save tables\n",
    "for page in range(1, num_pages + 1):\n",
    "    tables = tabula.read_pdf(file, pages=page, multiple_tables=True)\n",
    "    if tables:\n",
    "        for index, table in enumerate(tables):\n",
    "            table.to_csv(f\"table_{page}_{index + 1}.csv\", index=False)\n",
    "            print(f\"Table {index+1} on page {page} saved as 'table_{page}_{index + 1}.csv'\")\n",
    "    else:\n",
    "        print(f\"Page {page}: No tables found.\")"
   ]
  },
  {
   "cell_type": "code",
   "execution_count": 61,
   "metadata": {},
   "outputs": [],
   "source": [
    "import pandas as pd\n",
    "\n",
    "data = pd.read_csv(\"table_1_1.csv\")\n",
    "# data\n",
    "\n",
    "# separate the table\n",
    "# table 1: Depth and Unit\n",
    "table1 = data.iloc[0:2]\n",
    "\n",
    "# Table 2: e-probe analyses to just before LA-ICP-MS analyses\n",
    "table2 = data.iloc[2:14]\n",
    "\n",
    "# Table 3: LA-ICP-MS analyses onwards (last rows)\n",
    "table3 = data.iloc[14:]"
   ]
  },
  {
   "cell_type": "code",
   "execution_count": 74,
   "metadata": {},
   "outputs": [
    {
     "data": {
      "text/plain": [
       "[2, 15]"
      ]
     },
     "execution_count": 74,
     "metadata": {},
     "output_type": "execute_result"
    }
   ],
   "source": [
    "# Find the index where \"analyses\" is in the first column\n",
    "analyses_indices = data[data['Unnamed: 0'].str.contains('analyses', na=False)].index.tolist()\n",
    "analyses_indices"
   ]
  },
  {
   "cell_type": "code",
   "execution_count": 75,
   "metadata": {},
   "outputs": [
    {
     "name": "stdout",
     "output_type": "stream",
     "text": [
      "Table 1 :\n",
      "      Unnamed: 0    SR684 SR686   SR689  Unnamed: 1   SR697   SR698   SR699  \\\n",
      "0  Depth (mbsla)  1766.5 1771.5  1779.4         NaN  1800.1  1802.5  1805.7   \n",
      "1           Unit        248 248     248         NaN     254     255     256   \n",
      "\n",
      "    SR700  Uncertainty BHVO-2g BHVO-2g GeoREM BCR-2g BCR-2g GeoREM  \n",
      "0  1807.6          NaN     NaN            NaN    NaN           NaN  \n",
      "1     256          NaN     NaN            NaN    NaN           NaN  \n",
      "\n",
      "\n",
      "Table 1 saved to CSV.\n",
      "\n",
      "Table 2 :\n",
      "                                           Unnamed: 0      SR684 SR686  \\\n",
      "2   e-probe analyses (wt%) from Stolper et al. (2004)              NaN   \n",
      "3                                                SiO2      48.19 48.83   \n",
      "4                                                TiO2        2.63 2.62   \n",
      "5                                               Al2O3      13.12 13.65   \n",
      "6                                                FeOT      11.03 11.29   \n",
      "7                                                 MnO        0.18 0.17   \n",
      "8                                                 MgO        8.03 7.21   \n",
      "9                                                 CaO      13.15 12.45   \n",
      "10                                               Na2O        2.27 2.36   \n",
      "11                                                K2O        0.74 0.72   \n",
      "12                                               P2O5        0.31 0.25   \n",
      "13                                              Total      99.65 99.55   \n",
      "14                                                NaN  CalTech CalTech   \n",
      "\n",
      "      SR689  Unnamed: 1    SR697    SR698    SR699    SR700  Uncertainty  \\\n",
      "2       NaN         NaN      NaN      NaN      NaN      NaN          NaN   \n",
      "3     48.80         NaN    49.12    49.12    49.19    49.77          NaN   \n",
      "4      2.70         NaN     2.74     2.60     2.43     2.55          NaN   \n",
      "5     13.81         NaN    13.72     13.9     13.3     13.6          NaN   \n",
      "6     11.58         NaN    11.71    11.14    10.83    10.94          NaN   \n",
      "7      0.18         NaN     0.20      NaN      NaN      NaN          NaN   \n",
      "8      6.90         NaN     6.83     7.13      7.8     7.26          NaN   \n",
      "9     12.24         NaN    11.81    12.07    12.69    12.46          NaN   \n",
      "10     2.37         NaN     2.40     2.31     2.13     2.29          NaN   \n",
      "11     0.73         NaN     0.77     0.66     0.56     0.60          NaN   \n",
      "12     0.27         NaN     0.29     0.25     0.19     0.20          NaN   \n",
      "13    99.58         NaN    99.59    99.18    99.12    99.67          NaN   \n",
      "14  UHawaii         NaN  UHawaii  UHawaii  UHawaii  UHawaii          NaN   \n",
      "\n",
      "   BHVO-2g BHVO-2g GeoREM BCR-2g BCR-2g GeoREM  \n",
      "2      NaN            NaN    NaN           NaN  \n",
      "3      NaN            NaN    NaN           NaN  \n",
      "4      NaN            NaN    NaN           NaN  \n",
      "5      NaN            NaN    NaN           NaN  \n",
      "6      NaN            NaN    NaN           NaN  \n",
      "7      NaN            NaN    NaN           NaN  \n",
      "8      NaN            NaN    NaN           NaN  \n",
      "9      NaN            NaN    NaN           NaN  \n",
      "10     NaN            NaN    NaN           NaN  \n",
      "11     NaN            NaN    NaN           NaN  \n",
      "12     NaN            NaN    NaN           NaN  \n",
      "13     NaN            NaN    NaN           NaN  \n",
      "14     NaN            NaN    NaN           NaN  \n",
      "\n",
      "\n",
      "Table 2 saved to CSV.\n",
      "\n",
      "Table 3 :\n",
      "                       Unnamed: 0  SR684 SR686  SR689  Unnamed: 1  SR697  \\\n",
      "15             LA-ICP-MS analyses          NaN    NaN         NaN    NaN   \n",
      "16      Major element content (%)          NaN    NaN         NaN    NaN   \n",
      "17                           SiO2    47.6 48.2   49.0         NaN   49.5   \n",
      "18                           TiO2    2.73 2.85   2.56         NaN   2.56   \n",
      "19                          Al2O3    12.3 12.6   12.5         NaN   14.3   \n",
      "20                           FeOT    11.4 11.2   10.8         NaN   10.4   \n",
      "21                            MnO  0.176 0.169  0.171         NaN  0.161   \n",
      "22                            MgO    8.71 7.65   8.30         NaN   6.64   \n",
      "23                            CaO    13.9 14.2   13.6         NaN   13.3   \n",
      "24  Trace element abundance (ppm)          NaN    NaN         NaN    NaN   \n",
      "25                             Sc    41.7 43.4   40.0         NaN   32.9   \n",
      "26                              V      413 408    387         NaN    370   \n",
      "27                             Cr      370 255    330         NaN    366   \n",
      "28                             Co    48.6 46.0   46.7         NaN   40.7   \n",
      "29                             Ni      200 138    150         NaN    103   \n",
      "30                             Cu      181 165    152         NaN    154   \n",
      "31                             Zn      177 116    104         NaN     97   \n",
      "32                             Ga    21.3 20.0   19.8         NaN   20.5   \n",
      "33                             Ge      1.1 1.2    1.2         NaN    1.2   \n",
      "34                          Fe/Mn         63.8   63.7         NaN   63.5   \n",
      "35              2-stdev, relative         1.3%   0.8%         NaN   1.3%   \n",
      "36                              n            5      4         NaN      4   \n",
      "\n",
      "    SR698  SR699  SR700  Uncertainty BHVO-2g BHVO-2g GeoREM BCR-2g  \\\n",
      "15    NaN    NaN    NaN          NaN     NaN            NaN    NaN   \n",
      "16    NaN    NaN    NaN          NaN     NaN            NaN    NaN   \n",
      "17   48.4   49.6   49.4        0.300     NaN            NaN    NaN   \n",
      "18   2.80   2.45   2.57        0.030     NaN            NaN    NaN   \n",
      "19   13.4   12.6   12.8        0.200     NaN            NaN    NaN   \n",
      "20   11.0   10.3   10.7        0.200     NaN            NaN    NaN   \n",
      "21  0.171  0.164  0.169        0.003     NaN            NaN    NaN   \n",
      "22   7.21   8.18   7.73        0.090     NaN            NaN    NaN   \n",
      "23   13.8   13.4   13.5        0.200     NaN            NaN    NaN   \n",
      "24    NaN    NaN    NaN          NaN     NaN            NaN    NaN   \n",
      "25   38.5   40.8   40.4        0.900    35.1         33 ± 2   35.7   \n",
      "26    385    362    371        7.000     303       308 ± 19    414   \n",
      "27    413    642    391       21.000     311       293 ± 12     16   \n",
      "28   42.8   45.4   44.6        0.800    44.0         44 ± 2   38.0   \n",
      "29     98    135    115        5.000     126        116 ± 7      9   \n",
      "30    179    169    161        4.000     121       127 ± 11     15   \n",
      "31    257    210    153        6.000      98        102 ± 6    136   \n",
      "32   20.3   19.4   19.0        0.500    19.9         22 ± 3   20.9   \n",
      "33    1.1    1.1    1.2        0.100     1.3      1.6 ± 0.1    1.3   \n",
      "34   63.9   64.4   63.5          NaN    65.4             67   63.2   \n",
      "35   1.9%   1.4%   1.0%          NaN    0.6%            NaN   1.9%   \n",
      "36      5      5      6          NaN       9            NaN      2   \n",
      "\n",
      "   BCR-2g GeoREM  \n",
      "15           NaN  \n",
      "16           NaN  \n",
      "17           NaN  \n",
      "18           NaN  \n",
      "19           NaN  \n",
      "20           NaN  \n",
      "21           NaN  \n",
      "22           NaN  \n",
      "23           NaN  \n",
      "24           NaN  \n",
      "25        33 ± 2  \n",
      "26      425 ± 18  \n",
      "27        17 ± 2  \n",
      "28        38 ± 2  \n",
      "29        13 ± 2  \n",
      "30        21 ± 5  \n",
      "31       125 ± 5  \n",
      "32        23 ± 1  \n",
      "33     1.5 ± 0.1  \n",
      "34            62  \n",
      "35           NaN  \n",
      "36           NaN  \n",
      "\n",
      "\n",
      "Table 3 saved to CSV.\n",
      "\n"
     ]
    }
   ],
   "source": [
    "# Split the DataFrame at each 'analyses' row\n",
    "tables = {}\n",
    "start_idx = 0\n",
    "for i, end_idx in enumerate(analyses_indices, start=1):\n",
    "    tables[f\"Table {i}\"] = data.iloc[start_idx:end_idx]\n",
    "    start_idx = end_idx\n",
    "if start_idx < len(data):  # Include the last segment after the last 'analyses'\n",
    "    tables[f\"Table {len(analyses_indices) + 1}\"] = data.iloc[start_idx:]\n",
    "\n",
    "# Printing and saving each table\n",
    "for name, table in tables.items():\n",
    "    print(name, \":\")\n",
    "    print(table)\n",
    "    print(\"\\n\")\n",
    "    # Save each table to a CSV file\n",
    "    table.to_csv(f\"{name.replace(' ', '_').lower()}.csv\", index=False)\n",
    "    print(f\"{name} saved to CSV.\\n\")"
   ]
  }
 ],
 "metadata": {
  "kernelspec": {
   "display_name": "tensorflow",
   "language": "python",
   "name": "python3"
  },
  "language_info": {
   "codemirror_mode": {
    "name": "ipython",
    "version": 3
   },
   "file_extension": ".py",
   "mimetype": "text/x-python",
   "name": "python",
   "nbconvert_exporter": "python",
   "pygments_lexer": "ipython3",
   "version": "3.9.16"
  }
 },
 "nbformat": 4,
 "nbformat_minor": 2
}
